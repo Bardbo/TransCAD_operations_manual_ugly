{
 "cells": [
  {
   "cell_type": "code",
   "execution_count": 20,
   "metadata": {},
   "outputs": [],
   "source": [
    "import numpy as np\n",
    "import pandas as pd"
   ]
  },
  {
   "cell_type": "code",
   "execution_count": 45,
   "metadata": {},
   "outputs": [],
   "source": [
    "'''\n",
    "参数介绍：\n",
    "n——项目所在地小区个数\n",
    "indistance——至内部小区距离 列表\n",
    "outdistance——至外部小区距离 列表\n",
    "nrate——项目所在地小区分配比例 列表\n",
    "fa_o——发生量\n",
    "xi_d——吸引量\n",
    "inrate——内部占比\n",
    "outrate——外部占比\n",
    "'''\n",
    "def diejiaOD(n,indistance,outdistance,nrate,fa_o,xi_d,inrate=0.38,outrate=0.62):\n",
    "    # 计算距离比例\n",
    "    sumall = sum(indistance) + sum(outdistance)\n",
    "    indis,outdis = sumall/np.array(indistance),sumall/np.array(outdistance)\n",
    "    sumall = sum(indis)+sum(outdis)\n",
    "    indis_l,outdis_l = indis/sumall,outdis/sumall\n",
    "    sumin,sumout = sum(indis_l),sum(outdis_l)\n",
    "    indis_rate,outdis_rate = indis_l/sumin,outdis_l/sumout\n",
    "    \n",
    "    fa_in = []\n",
    "    n_in_fa = fa_o*np.array(nrate)*inrate\n",
    "    for i in n_in_fa:\n",
    "        fa_in.append(list(i*indis_rate))\n",
    "        \n",
    "    fa_out = []\n",
    "    n_out_fa = fa_o*np.array(nrate)*outrate\n",
    "    for j in n_out_fa:\n",
    "        fa_out.append(list(j*outdis_rate))\n",
    "    \n",
    "    xi_in = []\n",
    "    n_in_xi = xi_d*np.array(nrate)*inrate\n",
    "    for m in n_in_xi:\n",
    "        xi_in.append(list(m*indis_rate))\n",
    "    \n",
    "    xi_out = []\n",
    "    n_out_xi = xi_d*np.array(nrate)*outrate\n",
    "    for k in n_out_xi:\n",
    "        xi_out.append(list(k*outdis_rate))\n",
    "    \n",
    "    fa = np.vstack((np.array(fa_in).T,np.array(fa_out).T))\n",
    "    xi = np.vstack((np.array(xi_in).T,np.array(xi_out).T))\n",
    "    od = np.hstack((fa,xi))\n",
    "    return od"
   ]
  },
  {
   "cell_type": "code",
   "execution_count": 47,
   "metadata": {},
   "outputs": [],
   "source": [
    "# 将a改成内部小区的距离，b改成外部小区的距离\n",
    "# 更改项目所在地小区个数和发生吸引量\n",
    "# 更改文件存储路径\n",
    "a = [0.42,0.58,0.4]\n",
    "b = [0.71,0.24,0.42,0.48,0.49,0.75,0.82,0.75,1.02,0.79,0.78]\n",
    "pd.DataFrame(diejiaOD(2,a,b,[0.4,0.6],724,596)).to_excel(r'C:\\Users\\hn\\Desktop\\计算.xlsx')"
   ]
  },
  {
   "cell_type": "code",
   "execution_count": 5,
   "metadata": {},
   "outputs": [
    {
     "data": {
      "text/plain": [
       "[1, 2, 3]"
      ]
     },
     "execution_count": 5,
     "metadata": {},
     "output_type": "execute_result"
    }
   ],
   "source": [
    "list(eval('1,2,3'))"
   ]
  },
  {
   "cell_type": "code",
   "execution_count": null,
   "metadata": {},
   "outputs": [],
   "source": []
  }
 ],
 "metadata": {
  "kernelspec": {
   "display_name": "Python 3",
   "language": "python",
   "name": "python3"
  },
  "language_info": {
   "codemirror_mode": {
    "name": "ipython",
    "version": 3
   },
   "file_extension": ".py",
   "mimetype": "text/x-python",
   "name": "python",
   "nbconvert_exporter": "python",
   "pygments_lexer": "ipython3",
   "version": "3.7.3"
  }
 },
 "nbformat": 4,
 "nbformat_minor": 2
}
